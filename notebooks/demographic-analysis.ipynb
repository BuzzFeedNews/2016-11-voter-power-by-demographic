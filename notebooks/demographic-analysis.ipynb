{
 "cells": [
  {
   "cell_type": "markdown",
   "metadata": {},
   "source": [
    "# Demographic Analysis\n",
    "\n",
    "More details on this analysis are [available here](../README.md)."
   ]
  },
  {
   "cell_type": "code",
   "execution_count": 1,
   "metadata": {
    "collapsed": false
   },
   "outputs": [],
   "source": [
    "import requests\n",
    "import lxml.html\n",
    "import cssselect\n",
    "import pandas as pd\n",
    "import matplotlib as mpl\n",
    "%matplotlib inline"
   ]
  },
  {
   "cell_type": "markdown",
   "metadata": {},
   "source": [
    "## Load \"Voter Power Index\" scores"
   ]
  },
  {
   "cell_type": "code",
   "execution_count": 2,
   "metadata": {
    "collapsed": false
   },
   "outputs": [],
   "source": [
    "voter_power_index = pd.read_csv(\"../data/fivethirtyeight/voter-power-index.csv\")"
   ]
  },
  {
   "cell_type": "code",
   "execution_count": 3,
   "metadata": {
    "collapsed": false
   },
   "outputs": [
    {
     "data": {
      "text/html": [
       "<div>\n",
       "<table border=\"1\" class=\"dataframe\">\n",
       "  <thead>\n",
       "    <tr style=\"text-align: right;\">\n",
       "      <th></th>\n",
       "      <th>abbrev</th>\n",
       "      <th>power</th>\n",
       "      <th>state_raw</th>\n",
       "      <th>state</th>\n",
       "    </tr>\n",
       "  </thead>\n",
       "  <tbody>\n",
       "    <tr>\n",
       "      <th>0</th>\n",
       "      <td>NH</td>\n",
       "      <td>5.6</td>\n",
       "      <td>New Hampshire</td>\n",
       "      <td>NEW HAMPSHIRE</td>\n",
       "    </tr>\n",
       "    <tr>\n",
       "      <th>1</th>\n",
       "      <td>NV</td>\n",
       "      <td>4.9</td>\n",
       "      <td>Nevada</td>\n",
       "      <td>NEVADA</td>\n",
       "    </tr>\n",
       "    <tr>\n",
       "      <th>2</th>\n",
       "      <td>NM</td>\n",
       "      <td>4.7</td>\n",
       "      <td>New Mexico</td>\n",
       "      <td>NEW MEXICO</td>\n",
       "    </tr>\n",
       "    <tr>\n",
       "      <th>3</th>\n",
       "      <td>MI</td>\n",
       "      <td>3.1</td>\n",
       "      <td>Michigan</td>\n",
       "      <td>MICHIGAN</td>\n",
       "    </tr>\n",
       "    <tr>\n",
       "      <th>4</th>\n",
       "      <td>CO</td>\n",
       "      <td>3.1</td>\n",
       "      <td>Colorado</td>\n",
       "      <td>COLORADO</td>\n",
       "    </tr>\n",
       "  </tbody>\n",
       "</table>\n",
       "</div>"
      ],
      "text/plain": [
       "  abbrev  power      state_raw          state\n",
       "0     NH    5.6  New Hampshire  NEW HAMPSHIRE\n",
       "1     NV    4.9         Nevada         NEVADA\n",
       "2     NM    4.7     New Mexico     NEW MEXICO\n",
       "3     MI    3.1       Michigan       MICHIGAN\n",
       "4     CO    3.1       Colorado       COLORADO"
      ]
     },
     "execution_count": 3,
     "metadata": {},
     "output_type": "execute_result"
    }
   ],
   "source": [
    "voter_power_index.head()"
   ]
  },
  {
   "cell_type": "markdown",
   "metadata": {},
   "source": [
    "## Load state registered voter counts, by demographic"
   ]
  },
  {
   "cell_type": "code",
   "execution_count": 4,
   "metadata": {
    "collapsed": false
   },
   "outputs": [],
   "source": [
    "demo_by_state = pd.read_csv(\n",
    "    \"../data/census/Table4b_2012.csv\",\n",
    "    skiprows=3,\n",
    "    skipfooter=10,\n",
    "    na_values=[\"-\"],\n",
    "    engine='python'\n",
    ").pipe(lambda x: x[x.columns[0:14]])"
   ]
  },
  {
   "cell_type": "code",
   "execution_count": 5,
   "metadata": {
    "collapsed": false
   },
   "outputs": [
    {
     "data": {
      "text/html": [
       "<div>\n",
       "<table border=\"1\" class=\"dataframe\">\n",
       "  <thead>\n",
       "    <tr style=\"text-align: right;\">\n",
       "      <th></th>\n",
       "      <th>State</th>\n",
       "      <th>Race and Hispanic origin</th>\n",
       "      <th>Total Population</th>\n",
       "      <th>Total Citizen Population</th>\n",
       "      <th>Total registered</th>\n",
       "      <th>Percent registered\n",
       "(Total)</th>\n",
       "      <th>Margin of Error1</th>\n",
       "      <th>Percent registered\n",
       "(Citizen)</th>\n",
       "      <th>Margin of Error</th>\n",
       "      <th>Total voted</th>\n",
       "      <th>Percent voted\n",
       "(Total)</th>\n",
       "      <th>Margin of Error.1</th>\n",
       "      <th>Percent voted\n",
       "(Citizen)</th>\n",
       "      <th>Margin of Error.2</th>\n",
       "    </tr>\n",
       "  </thead>\n",
       "  <tbody>\n",
       "    <tr>\n",
       "      <th>0</th>\n",
       "      <td>All</td>\n",
       "      <td>Total</td>\n",
       "      <td>235,248</td>\n",
       "      <td>215,081</td>\n",
       "      <td>153,157</td>\n",
       "      <td>65.1</td>\n",
       "      <td>0.3</td>\n",
       "      <td>71.2</td>\n",
       "      <td>0.3</td>\n",
       "      <td>132,948</td>\n",
       "      <td>56.5</td>\n",
       "      <td>0.3</td>\n",
       "      <td>61.8</td>\n",
       "      <td>0.3</td>\n",
       "    </tr>\n",
       "    <tr>\n",
       "      <th>1</th>\n",
       "      <td>NaN</td>\n",
       "      <td>Male</td>\n",
       "      <td>113,243</td>\n",
       "      <td>103,022</td>\n",
       "      <td>71,414</td>\n",
       "      <td>63.1</td>\n",
       "      <td>0.4</td>\n",
       "      <td>69.3</td>\n",
       "      <td>0.4</td>\n",
       "      <td>61,551</td>\n",
       "      <td>54.4</td>\n",
       "      <td>0.4</td>\n",
       "      <td>59.7</td>\n",
       "      <td>0.4</td>\n",
       "    </tr>\n",
       "    <tr>\n",
       "      <th>2</th>\n",
       "      <td>NaN</td>\n",
       "      <td>Female</td>\n",
       "      <td>122,005</td>\n",
       "      <td>112,059</td>\n",
       "      <td>81,743</td>\n",
       "      <td>67.0</td>\n",
       "      <td>0.4</td>\n",
       "      <td>72.9</td>\n",
       "      <td>0.4</td>\n",
       "      <td>71,397</td>\n",
       "      <td>58.5</td>\n",
       "      <td>0.4</td>\n",
       "      <td>63.7</td>\n",
       "      <td>0.4</td>\n",
       "    </tr>\n",
       "    <tr>\n",
       "      <th>3</th>\n",
       "      <td>NaN</td>\n",
       "      <td>White alone</td>\n",
       "      <td>187,084</td>\n",
       "      <td>173,466</td>\n",
       "      <td>124,697</td>\n",
       "      <td>66.7</td>\n",
       "      <td>0.3</td>\n",
       "      <td>71.9</td>\n",
       "      <td>0.3</td>\n",
       "      <td>107,846</td>\n",
       "      <td>57.6</td>\n",
       "      <td>0.3</td>\n",
       "      <td>62.2</td>\n",
       "      <td>0.3</td>\n",
       "    </tr>\n",
       "    <tr>\n",
       "      <th>4</th>\n",
       "      <td>NaN</td>\n",
       "      <td>.White non-Hispanic alone</td>\n",
       "      <td>155,615</td>\n",
       "      <td>152,862</td>\n",
       "      <td>112,706</td>\n",
       "      <td>72.4</td>\n",
       "      <td>0.3</td>\n",
       "      <td>73.7</td>\n",
       "      <td>0.3</td>\n",
       "      <td>98,041</td>\n",
       "      <td>63.0</td>\n",
       "      <td>0.3</td>\n",
       "      <td>64.1</td>\n",
       "      <td>0.3</td>\n",
       "    </tr>\n",
       "  </tbody>\n",
       "</table>\n",
       "</div>"
      ],
      "text/plain": [
       "  State   Race and Hispanic origin Total Population Total Citizen Population  \\\n",
       "0   All                      Total          235,248                  215,081   \n",
       "1   NaN                       Male          113,243                  103,022   \n",
       "2   NaN                     Female          122,005                  112,059   \n",
       "3   NaN                White alone          187,084                  173,466   \n",
       "4   NaN  .White non-Hispanic alone          155,615                  152,862   \n",
       "\n",
       "  Total registered Percent registered\\n(Total) Margin of Error1  \\\n",
       "0          153,157                        65.1              0.3   \n",
       "1           71,414                        63.1              0.4   \n",
       "2           81,743                        67.0              0.4   \n",
       "3          124,697                        66.7              0.3   \n",
       "4          112,706                        72.4              0.3   \n",
       "\n",
       "  Percent registered\\n(Citizen) Margin of Error Total voted  \\\n",
       "0                          71.2             0.3     132,948   \n",
       "1                          69.3             0.4      61,551   \n",
       "2                          72.9             0.4      71,397   \n",
       "3                          71.9             0.3     107,846   \n",
       "4                          73.7             0.3      98,041   \n",
       "\n",
       "  Percent voted\\n(Total) Margin of Error.1 Percent voted\\n(Citizen)  \\\n",
       "0                   56.5               0.3                     61.8   \n",
       "1                   54.4               0.4                     59.7   \n",
       "2                   58.5               0.4                     63.7   \n",
       "3                   57.6               0.3                     62.2   \n",
       "4                   63.0               0.3                     64.1   \n",
       "\n",
       "  Margin of Error.2  \n",
       "0               0.3  \n",
       "1               0.4  \n",
       "2               0.4  \n",
       "3               0.3  \n",
       "4               0.3  "
      ]
     },
     "execution_count": 5,
     "metadata": {},
     "output_type": "execute_result"
    }
   ],
   "source": [
    "demo_by_state.head()"
   ]
  },
  {
   "cell_type": "code",
   "execution_count": 6,
   "metadata": {
    "collapsed": false
   },
   "outputs": [],
   "source": [
    "demo_by_state[\"State\"] = demo_by_state[\"State\"].fillna(method=\"ffill\")"
   ]
  },
  {
   "cell_type": "code",
   "execution_count": 7,
   "metadata": {
    "collapsed": false
   },
   "outputs": [],
   "source": [
    "demo_by_state.columns = [\n",
    "    \"state\", \"demographic\", \"total_pop\", \"total_citizen_pop\", \"total_registered\", \n",
    "   \"pct_registered\", \"moe_registered\", \"pct_registered_citizen\", \n",
    "   \"moe_registered_citizen\", \"total_voted\", \"pct_voted\", \"moe_voted\", \n",
    "   \"percent_voted_citizen\", \"moe_voted_citizen\"\n",
    "]"
   ]
  },
  {
   "cell_type": "code",
   "execution_count": 8,
   "metadata": {
    "collapsed": true
   },
   "outputs": [],
   "source": [
    "demo_by_state[\"total_registered\"] = demo_by_state[\"total_registered\"].apply(lambda x: float(str(x).replace(\",\", \"\")))"
   ]
  },
  {
   "cell_type": "code",
   "execution_count": 9,
   "metadata": {
    "collapsed": false
   },
   "outputs": [
    {
     "data": {
      "text/html": [
       "<div>\n",
       "<table border=\"1\" class=\"dataframe\">\n",
       "  <thead>\n",
       "    <tr style=\"text-align: right;\">\n",
       "      <th></th>\n",
       "      <th>state</th>\n",
       "      <th>demographic</th>\n",
       "      <th>total_pop</th>\n",
       "      <th>total_citizen_pop</th>\n",
       "      <th>total_registered</th>\n",
       "      <th>pct_registered</th>\n",
       "      <th>moe_registered</th>\n",
       "      <th>pct_registered_citizen</th>\n",
       "      <th>moe_registered_citizen</th>\n",
       "      <th>total_voted</th>\n",
       "      <th>pct_voted</th>\n",
       "      <th>moe_voted</th>\n",
       "      <th>percent_voted_citizen</th>\n",
       "      <th>moe_voted_citizen</th>\n",
       "    </tr>\n",
       "  </thead>\n",
       "  <tbody>\n",
       "    <tr>\n",
       "      <th>0</th>\n",
       "      <td>All</td>\n",
       "      <td>Total</td>\n",
       "      <td>235,248</td>\n",
       "      <td>215,081</td>\n",
       "      <td>153157.0</td>\n",
       "      <td>65.1</td>\n",
       "      <td>0.3</td>\n",
       "      <td>71.2</td>\n",
       "      <td>0.3</td>\n",
       "      <td>132,948</td>\n",
       "      <td>56.5</td>\n",
       "      <td>0.3</td>\n",
       "      <td>61.8</td>\n",
       "      <td>0.3</td>\n",
       "    </tr>\n",
       "    <tr>\n",
       "      <th>1</th>\n",
       "      <td>All</td>\n",
       "      <td>Male</td>\n",
       "      <td>113,243</td>\n",
       "      <td>103,022</td>\n",
       "      <td>71414.0</td>\n",
       "      <td>63.1</td>\n",
       "      <td>0.4</td>\n",
       "      <td>69.3</td>\n",
       "      <td>0.4</td>\n",
       "      <td>61,551</td>\n",
       "      <td>54.4</td>\n",
       "      <td>0.4</td>\n",
       "      <td>59.7</td>\n",
       "      <td>0.4</td>\n",
       "    </tr>\n",
       "    <tr>\n",
       "      <th>2</th>\n",
       "      <td>All</td>\n",
       "      <td>Female</td>\n",
       "      <td>122,005</td>\n",
       "      <td>112,059</td>\n",
       "      <td>81743.0</td>\n",
       "      <td>67.0</td>\n",
       "      <td>0.4</td>\n",
       "      <td>72.9</td>\n",
       "      <td>0.4</td>\n",
       "      <td>71,397</td>\n",
       "      <td>58.5</td>\n",
       "      <td>0.4</td>\n",
       "      <td>63.7</td>\n",
       "      <td>0.4</td>\n",
       "    </tr>\n",
       "    <tr>\n",
       "      <th>3</th>\n",
       "      <td>All</td>\n",
       "      <td>White alone</td>\n",
       "      <td>187,084</td>\n",
       "      <td>173,466</td>\n",
       "      <td>124697.0</td>\n",
       "      <td>66.7</td>\n",
       "      <td>0.3</td>\n",
       "      <td>71.9</td>\n",
       "      <td>0.3</td>\n",
       "      <td>107,846</td>\n",
       "      <td>57.6</td>\n",
       "      <td>0.3</td>\n",
       "      <td>62.2</td>\n",
       "      <td>0.3</td>\n",
       "    </tr>\n",
       "    <tr>\n",
       "      <th>4</th>\n",
       "      <td>All</td>\n",
       "      <td>.White non-Hispanic alone</td>\n",
       "      <td>155,615</td>\n",
       "      <td>152,862</td>\n",
       "      <td>112706.0</td>\n",
       "      <td>72.4</td>\n",
       "      <td>0.3</td>\n",
       "      <td>73.7</td>\n",
       "      <td>0.3</td>\n",
       "      <td>98,041</td>\n",
       "      <td>63.0</td>\n",
       "      <td>0.3</td>\n",
       "      <td>64.1</td>\n",
       "      <td>0.3</td>\n",
       "    </tr>\n",
       "  </tbody>\n",
       "</table>\n",
       "</div>"
      ],
      "text/plain": [
       "  state                demographic total_pop total_citizen_pop  \\\n",
       "0   All                      Total   235,248           215,081   \n",
       "1   All                       Male   113,243           103,022   \n",
       "2   All                     Female   122,005           112,059   \n",
       "3   All                White alone   187,084           173,466   \n",
       "4   All  .White non-Hispanic alone   155,615           152,862   \n",
       "\n",
       "   total_registered pct_registered moe_registered pct_registered_citizen  \\\n",
       "0          153157.0           65.1            0.3                   71.2   \n",
       "1           71414.0           63.1            0.4                   69.3   \n",
       "2           81743.0           67.0            0.4                   72.9   \n",
       "3          124697.0           66.7            0.3                   71.9   \n",
       "4          112706.0           72.4            0.3                   73.7   \n",
       "\n",
       "  moe_registered_citizen total_voted pct_voted moe_voted  \\\n",
       "0                    0.3     132,948      56.5       0.3   \n",
       "1                    0.4      61,551      54.4       0.4   \n",
       "2                    0.4      71,397      58.5       0.4   \n",
       "3                    0.3     107,846      57.6       0.3   \n",
       "4                    0.3      98,041      63.0       0.3   \n",
       "\n",
       "  percent_voted_citizen moe_voted_citizen  \n",
       "0                  61.8               0.3  \n",
       "1                  59.7               0.4  \n",
       "2                  63.7               0.4  \n",
       "3                  62.2               0.3  \n",
       "4                  64.1               0.3  "
      ]
     },
     "execution_count": 9,
     "metadata": {},
     "output_type": "execute_result"
    }
   ],
   "source": [
    "demo_by_state.head()"
   ]
  },
  {
   "cell_type": "markdown",
   "metadata": {},
   "source": [
    "## Join the two datasets"
   ]
  },
  {
   "cell_type": "code",
   "execution_count": 10,
   "metadata": {
    "collapsed": false
   },
   "outputs": [],
   "source": [
    "joined = pd.merge(\n",
    "    demo_by_state,\n",
    "    voter_power_index,\n",
    "    on=\"state\",\n",
    "    how=\"left\"\n",
    ").dropna(subset=[\"power\"])"
   ]
  },
  {
   "cell_type": "code",
   "execution_count": 11,
   "metadata": {
    "collapsed": false
   },
   "outputs": [
    {
     "data": {
      "text/html": [
       "<div>\n",
       "<table border=\"1\" class=\"dataframe\">\n",
       "  <thead>\n",
       "    <tr style=\"text-align: right;\">\n",
       "      <th></th>\n",
       "      <th>11</th>\n",
       "      <th>12</th>\n",
       "      <th>13</th>\n",
       "      <th>14</th>\n",
       "      <th>15</th>\n",
       "    </tr>\n",
       "  </thead>\n",
       "  <tbody>\n",
       "    <tr>\n",
       "      <th>state</th>\n",
       "      <td>ALABAMA</td>\n",
       "      <td>ALABAMA</td>\n",
       "      <td>ALABAMA</td>\n",
       "      <td>ALABAMA</td>\n",
       "      <td>ALABAMA</td>\n",
       "    </tr>\n",
       "    <tr>\n",
       "      <th>demographic</th>\n",
       "      <td>Total</td>\n",
       "      <td>Male</td>\n",
       "      <td>Female</td>\n",
       "      <td>White alone</td>\n",
       "      <td>.White non-Hispanic alone</td>\n",
       "    </tr>\n",
       "    <tr>\n",
       "      <th>total_pop</th>\n",
       "      <td>3,594</td>\n",
       "      <td>1,703</td>\n",
       "      <td>1,891</td>\n",
       "      <td>2,580</td>\n",
       "      <td>2,473</td>\n",
       "    </tr>\n",
       "    <tr>\n",
       "      <th>total_citizen_pop</th>\n",
       "      <td>3,479</td>\n",
       "      <td>1,649</td>\n",
       "      <td>1,831</td>\n",
       "      <td>2,502</td>\n",
       "      <td>2,467</td>\n",
       "    </tr>\n",
       "    <tr>\n",
       "      <th>total_registered</th>\n",
       "      <td>2556</td>\n",
       "      <td>1201</td>\n",
       "      <td>1354</td>\n",
       "      <td>1878</td>\n",
       "      <td>1866</td>\n",
       "    </tr>\n",
       "    <tr>\n",
       "      <th>pct_registered</th>\n",
       "      <td>71.1</td>\n",
       "      <td>70.5</td>\n",
       "      <td>71.6</td>\n",
       "      <td>72.8</td>\n",
       "      <td>75.5</td>\n",
       "    </tr>\n",
       "    <tr>\n",
       "      <th>moe_registered</th>\n",
       "      <td>2.2</td>\n",
       "      <td>3.3</td>\n",
       "      <td>3.1</td>\n",
       "      <td>2.6</td>\n",
       "      <td>2.6</td>\n",
       "    </tr>\n",
       "    <tr>\n",
       "      <th>pct_registered_citizen</th>\n",
       "      <td>73.5</td>\n",
       "      <td>72.9</td>\n",
       "      <td>74.0</td>\n",
       "      <td>75.1</td>\n",
       "      <td>75.6</td>\n",
       "    </tr>\n",
       "    <tr>\n",
       "      <th>moe_registered_citizen</th>\n",
       "      <td>2.2</td>\n",
       "      <td>3.2</td>\n",
       "      <td>3.0</td>\n",
       "      <td>2.6</td>\n",
       "      <td>2.5</td>\n",
       "    </tr>\n",
       "    <tr>\n",
       "      <th>total_voted</th>\n",
       "      <td>2,154</td>\n",
       "      <td>1,009</td>\n",
       "      <td>1,145</td>\n",
       "      <td>1,530</td>\n",
       "      <td>1,530</td>\n",
       "    </tr>\n",
       "    <tr>\n",
       "      <th>pct_voted</th>\n",
       "      <td>59.9</td>\n",
       "      <td>59.2</td>\n",
       "      <td>60.6</td>\n",
       "      <td>59.3</td>\n",
       "      <td>61.9</td>\n",
       "    </tr>\n",
       "    <tr>\n",
       "      <th>moe_voted</th>\n",
       "      <td>2.4</td>\n",
       "      <td>3.5</td>\n",
       "      <td>3.3</td>\n",
       "      <td>2.9</td>\n",
       "      <td>2.9</td>\n",
       "    </tr>\n",
       "    <tr>\n",
       "      <th>percent_voted_citizen</th>\n",
       "      <td>61.9</td>\n",
       "      <td>61.2</td>\n",
       "      <td>62.6</td>\n",
       "      <td>61.2</td>\n",
       "      <td>62.0</td>\n",
       "    </tr>\n",
       "    <tr>\n",
       "      <th>moe_voted_citizen</th>\n",
       "      <td>2.4</td>\n",
       "      <td>3.5</td>\n",
       "      <td>3.3</td>\n",
       "      <td>2.9</td>\n",
       "      <td>2.9</td>\n",
       "    </tr>\n",
       "    <tr>\n",
       "      <th>abbrev</th>\n",
       "      <td>AL</td>\n",
       "      <td>AL</td>\n",
       "      <td>AL</td>\n",
       "      <td>AL</td>\n",
       "      <td>AL</td>\n",
       "    </tr>\n",
       "    <tr>\n",
       "      <th>power</th>\n",
       "      <td>0</td>\n",
       "      <td>0</td>\n",
       "      <td>0</td>\n",
       "      <td>0</td>\n",
       "      <td>0</td>\n",
       "    </tr>\n",
       "    <tr>\n",
       "      <th>state_raw</th>\n",
       "      <td>Alabama</td>\n",
       "      <td>Alabama</td>\n",
       "      <td>Alabama</td>\n",
       "      <td>Alabama</td>\n",
       "      <td>Alabama</td>\n",
       "    </tr>\n",
       "  </tbody>\n",
       "</table>\n",
       "</div>"
      ],
      "text/plain": [
       "                             11       12       13           14  \\\n",
       "state                   ALABAMA  ALABAMA  ALABAMA      ALABAMA   \n",
       "demographic               Total     Male   Female  White alone   \n",
       "total_pop                 3,594    1,703    1,891        2,580   \n",
       "total_citizen_pop         3,479    1,649    1,831        2,502   \n",
       "total_registered           2556     1201     1354         1878   \n",
       "pct_registered             71.1     70.5     71.6         72.8   \n",
       "moe_registered              2.2      3.3      3.1          2.6   \n",
       "pct_registered_citizen     73.5     72.9     74.0         75.1   \n",
       "moe_registered_citizen      2.2      3.2      3.0          2.6   \n",
       "total_voted               2,154    1,009    1,145        1,530   \n",
       "pct_voted                  59.9     59.2     60.6         59.3   \n",
       "moe_voted                   2.4      3.5      3.3          2.9   \n",
       "percent_voted_citizen      61.9     61.2     62.6         61.2   \n",
       "moe_voted_citizen           2.4      3.5      3.3          2.9   \n",
       "abbrev                       AL       AL       AL           AL   \n",
       "power                         0        0        0            0   \n",
       "state_raw               Alabama  Alabama  Alabama      Alabama   \n",
       "\n",
       "                                               15  \n",
       "state                                     ALABAMA  \n",
       "demographic             .White non-Hispanic alone  \n",
       "total_pop                                   2,473  \n",
       "total_citizen_pop                           2,467  \n",
       "total_registered                             1866  \n",
       "pct_registered                               75.5  \n",
       "moe_registered                                2.6  \n",
       "pct_registered_citizen                       75.6  \n",
       "moe_registered_citizen                        2.5  \n",
       "total_voted                                 1,530  \n",
       "pct_voted                                    61.9  \n",
       "moe_voted                                     2.9  \n",
       "percent_voted_citizen                        62.0  \n",
       "moe_voted_citizen                             2.9  \n",
       "abbrev                                         AL  \n",
       "power                                           0  \n",
       "state_raw                                 Alabama  "
      ]
     },
     "execution_count": 11,
     "metadata": {},
     "output_type": "execute_result"
    }
   ],
   "source": [
    "joined.head().T"
   ]
  },
  {
   "cell_type": "code",
   "execution_count": 12,
   "metadata": {
    "collapsed": false
   },
   "outputs": [],
   "source": [
    "joined[\"demo_power\"] =  joined[\"total_registered\"] * joined[\"power\"]"
   ]
  },
  {
   "cell_type": "markdown",
   "metadata": {},
   "source": [
    "## Analyze the data"
   ]
  },
  {
   "cell_type": "code",
   "execution_count": 13,
   "metadata": {
    "collapsed": false
   },
   "outputs": [],
   "source": [
    "demo_grp = joined.groupby(\"demographic\")\n",
    "# Find the aggregate amount of voting power and total number of registered voters for each demographic\n",
    "demo_power = pd.DataFrame({\n",
    "    \"total_power\": demo_grp[\"demo_power\"].sum(),\n",
    "    \"total_registered\": demo_grp[\"total_registered\"].sum(),\n",
    "})\n",
    "# The \"power ratio\" is the total power for a demographic divided by the number of registered voters\n",
    "demo_power[\"power_ratio\"] = demo_power[\"total_power\"] / demo_power[\"total_registered\"]\n",
    "# Set all of the power ratios in line with the overall power ratio \n",
    "demo_power[\"power_ratio_norm\"] = demo_power[\"power_ratio\"] / demo_power.loc[\"Total\"][\"power_ratio\"]\n",
    "demo_power = demo_power.sort_values(\"power_ratio_norm\", ascending=False)"
   ]
  },
  {
   "cell_type": "code",
   "execution_count": 14,
   "metadata": {
    "collapsed": true
   },
   "outputs": [],
   "source": [
    "gender = [\"Male\", \"Female\"]\n",
    "non_race = [\"Male\", \"Female\", \"Total\"]"
   ]
  },
  {
   "cell_type": "code",
   "execution_count": 15,
   "metadata": {
    "collapsed": false
   },
   "outputs": [
    {
     "data": {
      "text/html": [
       "<div>\n",
       "<table border=\"1\" class=\"dataframe\">\n",
       "  <thead>\n",
       "    <tr style=\"text-align: right;\">\n",
       "      <th></th>\n",
       "      <th>power_ratio_norm</th>\n",
       "    </tr>\n",
       "    <tr>\n",
       "      <th>demographic</th>\n",
       "      <th></th>\n",
       "    </tr>\n",
       "  </thead>\n",
       "  <tbody>\n",
       "    <tr>\n",
       "      <th>Male</th>\n",
       "      <td>1.01</td>\n",
       "    </tr>\n",
       "    <tr>\n",
       "      <th>Female</th>\n",
       "      <td>1.00</td>\n",
       "    </tr>\n",
       "  </tbody>\n",
       "</table>\n",
       "</div>"
      ],
      "text/plain": [
       "             power_ratio_norm\n",
       "demographic                  \n",
       "Male                     1.01\n",
       "Female                   1.00"
      ]
     },
     "execution_count": 15,
     "metadata": {},
     "output_type": "execute_result"
    }
   ],
   "source": [
    "demo_power.loc[gender][[\"power_ratio_norm\"]].round(2)"
   ]
  },
  {
   "cell_type": "code",
   "execution_count": 16,
   "metadata": {
    "collapsed": false
   },
   "outputs": [
    {
     "data": {
      "text/html": [
       "<div>\n",
       "<table border=\"1\" class=\"dataframe\">\n",
       "  <thead>\n",
       "    <tr style=\"text-align: right;\">\n",
       "      <th></th>\n",
       "      <th>power_ratio_norm</th>\n",
       "    </tr>\n",
       "    <tr>\n",
       "      <th>demographic</th>\n",
       "      <th></th>\n",
       "    </tr>\n",
       "  </thead>\n",
       "  <tbody>\n",
       "    <tr>\n",
       "      <th>.White non-Hispanic alone</th>\n",
       "      <td>1.05</td>\n",
       "    </tr>\n",
       "    <tr>\n",
       "      <th>White alone</th>\n",
       "      <td>1.03</td>\n",
       "    </tr>\n",
       "    <tr>\n",
       "      <th>White alone or in combination</th>\n",
       "      <td>1.03</td>\n",
       "    </tr>\n",
       "    <tr>\n",
       "      <th>Black alone</th>\n",
       "      <td>0.91</td>\n",
       "    </tr>\n",
       "    <tr>\n",
       "      <th>Black alone or in combination</th>\n",
       "      <td>0.91</td>\n",
       "    </tr>\n",
       "    <tr>\n",
       "      <th>Hispanic (of any race)</th>\n",
       "      <td>0.87</td>\n",
       "    </tr>\n",
       "    <tr>\n",
       "      <th>Asian alone or in combination</th>\n",
       "      <td>0.58</td>\n",
       "    </tr>\n",
       "    <tr>\n",
       "      <th>Asian alone</th>\n",
       "      <td>0.58</td>\n",
       "    </tr>\n",
       "  </tbody>\n",
       "</table>\n",
       "</div>"
      ],
      "text/plain": [
       "                               power_ratio_norm\n",
       "demographic                                    \n",
       ".White non-Hispanic alone                  1.05\n",
       "White alone                                1.03\n",
       "White alone or in combination              1.03\n",
       "Black alone                                0.91\n",
       "Black alone or in combination              0.91\n",
       "Hispanic (of any race)                     0.87\n",
       "Asian alone or in combination              0.58\n",
       "Asian alone                                0.58"
      ]
     },
     "execution_count": 16,
     "metadata": {},
     "output_type": "execute_result"
    }
   ],
   "source": [
    "demo_power[\n",
    "    ~demo_power.index.isin(non_race)\n",
    "][[\"power_ratio_norm\"]].round(2)"
   ]
  },
  {
   "cell_type": "code",
   "execution_count": 17,
   "metadata": {
    "collapsed": false
   },
   "outputs": [
    {
     "data": {
      "image/png": "[encoded data removed]",
      "text/plain": [
       "<matplotlib.figure.Figure at 0x10dfa2a90>"
      ]
     },
     "metadata": {},
     "output_type": "display_data"
    }
   ],
   "source": [
    "ax = demo_power[\n",
    "    ~demo_power.index.isin(non_race)\n",
    "][[\"power_ratio_norm\"]].round(2).plot(kind=\"bar\", figsize=(10,5))\n",
    "ax.set_title(\"Power Ratio Of An Individual Voter For Each Demographic\", size=14)\n",
    "pass"
   ]
  },
  {
   "cell_type": "markdown",
   "metadata": {},
   "source": [
    "## Distribution of Asian and Hispanic registered voters, by state"
   ]
  },
  {
   "cell_type": "code",
   "execution_count": 18,
   "metadata": {
    "collapsed": false
   },
   "outputs": [
    {
     "data": {
      "text/html": [
       "<div>\n",
       "<table border=\"1\" class=\"dataframe\">\n",
       "  <thead>\n",
       "    <tr style=\"text-align: right;\">\n",
       "      <th></th>\n",
       "      <th>state</th>\n",
       "      <th>demographic</th>\n",
       "      <th>total_registered</th>\n",
       "      <th>power</th>\n",
       "    </tr>\n",
       "  </thead>\n",
       "  <tbody>\n",
       "    <tr>\n",
       "      <th>61</th>\n",
       "      <td>CALIFORNIA</td>\n",
       "      <td>Asian alone</td>\n",
       "      <td>1645.0</td>\n",
       "      <td>0.0</td>\n",
       "    </tr>\n",
       "    <tr>\n",
       "      <th>369</th>\n",
       "      <td>NEW YORK</td>\n",
       "      <td>Asian alone</td>\n",
       "      <td>384.0</td>\n",
       "      <td>0.0</td>\n",
       "    </tr>\n",
       "    <tr>\n",
       "      <th>490</th>\n",
       "      <td>TEXAS</td>\n",
       "      <td>Asian alone</td>\n",
       "      <td>299.0</td>\n",
       "      <td>0.0</td>\n",
       "    </tr>\n",
       "    <tr>\n",
       "      <th>347</th>\n",
       "      <td>NEW JERSEY</td>\n",
       "      <td>Asian alone</td>\n",
       "      <td>243.0</td>\n",
       "      <td>0.3</td>\n",
       "    </tr>\n",
       "    <tr>\n",
       "      <th>160</th>\n",
       "      <td>ILLINOIS</td>\n",
       "      <td>Asian alone</td>\n",
       "      <td>228.0</td>\n",
       "      <td>0.0</td>\n",
       "    </tr>\n",
       "    <tr>\n",
       "      <th>138</th>\n",
       "      <td>HAWAII</td>\n",
       "      <td>Asian alone</td>\n",
       "      <td>227.0</td>\n",
       "      <td>0.1</td>\n",
       "    </tr>\n",
       "    <tr>\n",
       "      <th>534</th>\n",
       "      <td>WASHINGTON</td>\n",
       "      <td>Asian alone</td>\n",
       "      <td>178.0</td>\n",
       "      <td>0.2</td>\n",
       "    </tr>\n",
       "    <tr>\n",
       "      <th>116</th>\n",
       "      <td>FLORIDA</td>\n",
       "      <td>Asian alone</td>\n",
       "      <td>174.0</td>\n",
       "      <td>2.5</td>\n",
       "    </tr>\n",
       "    <tr>\n",
       "      <th>523</th>\n",
       "      <td>VIRGINIA</td>\n",
       "      <td>Asian alone</td>\n",
       "      <td>136.0</td>\n",
       "      <td>2.3</td>\n",
       "    </tr>\n",
       "    <tr>\n",
       "      <th>248</th>\n",
       "      <td>MASSACHUSETTS</td>\n",
       "      <td>Asian alone</td>\n",
       "      <td>119.0</td>\n",
       "      <td>0.0</td>\n",
       "    </tr>\n",
       "  </tbody>\n",
       "</table>\n",
       "</div>"
      ],
      "text/plain": [
       "             state  demographic  total_registered  power\n",
       "61      CALIFORNIA  Asian alone            1645.0    0.0\n",
       "369       NEW YORK  Asian alone             384.0    0.0\n",
       "490          TEXAS  Asian alone             299.0    0.0\n",
       "347     NEW JERSEY  Asian alone             243.0    0.3\n",
       "160       ILLINOIS  Asian alone             228.0    0.0\n",
       "138         HAWAII  Asian alone             227.0    0.1\n",
       "534     WASHINGTON  Asian alone             178.0    0.2\n",
       "116        FLORIDA  Asian alone             174.0    2.5\n",
       "523       VIRGINIA  Asian alone             136.0    2.3\n",
       "248  MASSACHUSETTS  Asian alone             119.0    0.0"
      ]
     },
     "execution_count": 18,
     "metadata": {},
     "output_type": "execute_result"
    }
   ],
   "source": [
    "joined[\n",
    "    joined[\"demographic\"] == \"Asian alone\"\n",
    "].sort_values(\"total_registered\", ascending=False).head(10)[[\"state\", \"demographic\", \"total_registered\", \"power\"]]"
   ]
  },
  {
   "cell_type": "code",
   "execution_count": 19,
   "metadata": {
    "collapsed": false
   },
   "outputs": [
    {
     "data": {
      "text/html": [
       "<div>\n",
       "<table border=\"1\" class=\"dataframe\">\n",
       "  <thead>\n",
       "    <tr style=\"text-align: right;\">\n",
       "      <th></th>\n",
       "      <th>state</th>\n",
       "      <th>demographic</th>\n",
       "      <th>total_registered</th>\n",
       "      <th>power</th>\n",
       "    </tr>\n",
       "  </thead>\n",
       "  <tbody>\n",
       "    <tr>\n",
       "      <th>62</th>\n",
       "      <td>CALIFORNIA</td>\n",
       "      <td>Hispanic (of any race)</td>\n",
       "      <td>3684.0</td>\n",
       "      <td>0.0</td>\n",
       "    </tr>\n",
       "    <tr>\n",
       "      <th>491</th>\n",
       "      <td>TEXAS</td>\n",
       "      <td>Hispanic (of any race)</td>\n",
       "      <td>2652.0</td>\n",
       "      <td>0.0</td>\n",
       "    </tr>\n",
       "    <tr>\n",
       "      <th>117</th>\n",
       "      <td>FLORIDA</td>\n",
       "      <td>Hispanic (of any race)</td>\n",
       "      <td>1622.0</td>\n",
       "      <td>2.5</td>\n",
       "    </tr>\n",
       "    <tr>\n",
       "      <th>370</th>\n",
       "      <td>NEW YORK</td>\n",
       "      <td>Hispanic (of any race)</td>\n",
       "      <td>983.0</td>\n",
       "      <td>0.0</td>\n",
       "    </tr>\n",
       "    <tr>\n",
       "      <th>40</th>\n",
       "      <td>ARIZONA</td>\n",
       "      <td>Hispanic (of any race)</td>\n",
       "      <td>516.0</td>\n",
       "      <td>1.6</td>\n",
       "    </tr>\n",
       "    <tr>\n",
       "      <th>348</th>\n",
       "      <td>NEW JERSEY</td>\n",
       "      <td>Hispanic (of any race)</td>\n",
       "      <td>468.0</td>\n",
       "      <td>0.3</td>\n",
       "    </tr>\n",
       "    <tr>\n",
       "      <th>161</th>\n",
       "      <td>ILLINOIS</td>\n",
       "      <td>Hispanic (of any race)</td>\n",
       "      <td>415.0</td>\n",
       "      <td>0.0</td>\n",
       "    </tr>\n",
       "    <tr>\n",
       "      <th>359</th>\n",
       "      <td>NEW MEXICO</td>\n",
       "      <td>Hispanic (of any race)</td>\n",
       "      <td>349.0</td>\n",
       "      <td>4.7</td>\n",
       "    </tr>\n",
       "    <tr>\n",
       "      <th>73</th>\n",
       "      <td>COLORADO</td>\n",
       "      <td>Hispanic (of any race)</td>\n",
       "      <td>284.0</td>\n",
       "      <td>3.1</td>\n",
       "    </tr>\n",
       "    <tr>\n",
       "      <th>436</th>\n",
       "      <td>PENNSYLVANIA</td>\n",
       "      <td>Hispanic (of any race)</td>\n",
       "      <td>225.0</td>\n",
       "      <td>2.7</td>\n",
       "    </tr>\n",
       "  </tbody>\n",
       "</table>\n",
       "</div>"
      ],
      "text/plain": [
       "            state             demographic  total_registered  power\n",
       "62     CALIFORNIA  Hispanic (of any race)            3684.0    0.0\n",
       "491         TEXAS  Hispanic (of any race)            2652.0    0.0\n",
       "117       FLORIDA  Hispanic (of any race)            1622.0    2.5\n",
       "370      NEW YORK  Hispanic (of any race)             983.0    0.0\n",
       "40        ARIZONA  Hispanic (of any race)             516.0    1.6\n",
       "348    NEW JERSEY  Hispanic (of any race)             468.0    0.3\n",
       "161      ILLINOIS  Hispanic (of any race)             415.0    0.0\n",
       "359    NEW MEXICO  Hispanic (of any race)             349.0    4.7\n",
       "73       COLORADO  Hispanic (of any race)             284.0    3.1\n",
       "436  PENNSYLVANIA  Hispanic (of any race)             225.0    2.7"
      ]
     },
     "execution_count": 19,
     "metadata": {},
     "output_type": "execute_result"
    }
   ],
   "source": [
    "joined[\n",
    "    joined[\"demographic\"] == \"Hispanic (of any race)\"\n",
    "].sort_values(\"total_registered\", ascending=False).head(10)[[\"state\", \"demographic\", \"total_registered\", \"power\"]]"
   ]
  },
  {
   "cell_type": "markdown",
   "metadata": {},
   "source": [
    "# Analyzing Education Power\n",
    "\n",
    "*Note: This section uses data from the [Current Population Survey](http://www.census.gov/cps/data/cpstablecreator.html). Instead of looking at all **registered voters**, which is not possible through the survey, we are analyzing all **adult citizens**.*"
   ]
  },
  {
   "cell_type": "markdown",
   "metadata": {},
   "source": [
    "## Load Current Population Survey"
   ]
  },
  {
   "cell_type": "code",
   "execution_count": 20,
   "metadata": {
    "collapsed": false
   },
   "outputs": [],
   "source": [
    "cps_edu = pd.read_csv(\"../data/census/CPS Data - educational_attainment.csv\")\\\n",
    "    .dropna(subset=[\"Total\"])"
   ]
  },
  {
   "cell_type": "code",
   "execution_count": 21,
   "metadata": {
    "collapsed": false
   },
   "outputs": [],
   "source": [
    "cps_edu[\"State\"] = cps_edu[\"State\"].fillna(method=\"ffill\")"
   ]
  },
  {
   "cell_type": "code",
   "execution_count": 22,
   "metadata": {
    "collapsed": false
   },
   "outputs": [],
   "source": [
    "cps_education = cps_edu\\\n",
    "    .set_index([\"State\", \"Race\"])\\\n",
    "    .stack()\\\n",
    "    .reset_index()\\\n",
    "    .rename(columns={\"level_2\": \"education\", 0: \"total_citizens_raw\"})"
   ]
  },
  {
   "cell_type": "code",
   "execution_count": 23,
   "metadata": {
    "collapsed": true
   },
   "outputs": [],
   "source": [
    "cps_education[\"total_citizens\"] = cps_education[\"total_citizens_raw\"].apply(lambda x: int(str(x).replace(\",\", \"\")))"
   ]
  },
  {
   "cell_type": "code",
   "execution_count": 24,
   "metadata": {
    "collapsed": true
   },
   "outputs": [],
   "source": [
    "def is_college_educated(education):\n",
    "    if education in [\"No high school diploma\", \"High school or equivalent\"]:\n",
    "        return False\n",
    "    elif education in [\"Some college less than 4-yr degree\", \"Bachelor's degree or higher\"]:\n",
    "        return True\n",
    "    else:\n",
    "        return None"
   ]
  },
  {
   "cell_type": "code",
   "execution_count": 25,
   "metadata": {
    "collapsed": false
   },
   "outputs": [],
   "source": [
    "cps_education[\"is_college_educated\"] = cps_education[\"education\"].apply(is_college_educated)"
   ]
  },
  {
   "cell_type": "code",
   "execution_count": 26,
   "metadata": {
    "collapsed": false
   },
   "outputs": [
    {
     "data": {
      "text/html": [
       "<div>\n",
       "<table border=\"1\" class=\"dataframe\">\n",
       "  <thead>\n",
       "    <tr style=\"text-align: right;\">\n",
       "      <th></th>\n",
       "      <th>State</th>\n",
       "      <th>Race</th>\n",
       "      <th>education</th>\n",
       "      <th>total_citizens_raw</th>\n",
       "      <th>total_citizens</th>\n",
       "      <th>is_college_educated</th>\n",
       "    </tr>\n",
       "  </thead>\n",
       "  <tbody>\n",
       "    <tr>\n",
       "      <th>0</th>\n",
       "      <td>Totals</td>\n",
       "      <td>Totals</td>\n",
       "      <td>Total</td>\n",
       "      <td>244,806,535</td>\n",
       "      <td>244806535</td>\n",
       "      <td>None</td>\n",
       "    </tr>\n",
       "    <tr>\n",
       "      <th>1</th>\n",
       "      <td>Totals</td>\n",
       "      <td>Totals</td>\n",
       "      <td>No high school diploma</td>\n",
       "      <td>28,653,227</td>\n",
       "      <td>28653227</td>\n",
       "      <td>False</td>\n",
       "    </tr>\n",
       "    <tr>\n",
       "      <th>2</th>\n",
       "      <td>Totals</td>\n",
       "      <td>Totals</td>\n",
       "      <td>High school or equivalent</td>\n",
       "      <td>70,882,009</td>\n",
       "      <td>70882009</td>\n",
       "      <td>False</td>\n",
       "    </tr>\n",
       "    <tr>\n",
       "      <th>3</th>\n",
       "      <td>Totals</td>\n",
       "      <td>Totals</td>\n",
       "      <td>Some college less than 4-yr degree</td>\n",
       "      <td>70,150,254</td>\n",
       "      <td>70150254</td>\n",
       "      <td>True</td>\n",
       "    </tr>\n",
       "    <tr>\n",
       "      <th>4</th>\n",
       "      <td>Totals</td>\n",
       "      <td>Totals</td>\n",
       "      <td>Bachelor's degree or higher</td>\n",
       "      <td>75,121,045</td>\n",
       "      <td>75121045</td>\n",
       "      <td>True</td>\n",
       "    </tr>\n",
       "  </tbody>\n",
       "</table>\n",
       "</div>"
      ],
      "text/plain": [
       "    State    Race                           education total_citizens_raw  \\\n",
       "0  Totals  Totals                               Total        244,806,535   \n",
       "1  Totals  Totals              No high school diploma         28,653,227   \n",
       "2  Totals  Totals           High school or equivalent         70,882,009   \n",
       "3  Totals  Totals  Some college less than 4-yr degree         70,150,254   \n",
       "4  Totals  Totals         Bachelor's degree or higher         75,121,045   \n",
       "\n",
       "   total_citizens is_college_educated  \n",
       "0       244806535                None  \n",
       "1        28653227               False  \n",
       "2        70882009               False  \n",
       "3        70150254                True  \n",
       "4        75121045                True  "
      ]
     },
     "execution_count": 26,
     "metadata": {},
     "output_type": "execute_result"
    }
   ],
   "source": [
    "cps_education.head(5)"
   ]
  },
  {
   "cell_type": "markdown",
   "metadata": {},
   "source": [
    "## Merge with \"Voter Power Index\""
   ]
  },
  {
   "cell_type": "code",
   "execution_count": 27,
   "metadata": {
    "collapsed": false
   },
   "outputs": [],
   "source": [
    "joined_edu = pd.merge(\n",
    "    cps_education,\n",
    "    voter_power_index,\n",
    "    left_on=\"State\",\n",
    "    right_on=\"abbrev\",\n",
    "    how=\"left\"\n",
    ").dropna(subset=[\"power\"])"
   ]
  },
  {
   "cell_type": "code",
   "execution_count": 28,
   "metadata": {
    "collapsed": true
   },
   "outputs": [],
   "source": [
    "joined_edu[\"demo_power\"] = joined_edu[\"total_citizens\"] * joined_edu[\"power\"]"
   ]
  },
  {
   "cell_type": "markdown",
   "metadata": {},
   "source": [
    "## Analyze the data"
   ]
  },
  {
   "cell_type": "code",
   "execution_count": 29,
   "metadata": {
    "collapsed": false
   },
   "outputs": [],
   "source": [
    "# Create groups by race and education level\n",
    "edu_grp = joined_edu.groupby([\"Race\", \"is_college_educated\"])\n",
    "# Find the total power and the total number of citizens for each race-plus-education group\n",
    "edu_power = pd.DataFrame({\n",
    "    \"total_power\": edu_grp[\"demo_power\"].sum(),\n",
    "    \"total_citizens\": edu_grp[\"total_citizens\"].sum(),\n",
    "})\n",
    "# Find the ratio of the total power to the total number of adult citizens\n",
    "edu_power[\"power_ratio\"] = edu_power[\"total_power\"] / edu_power[\"total_citizens\"]\n",
    "edu_power = edu_power.sort_values(\"power_ratio\", ascending=False)"
   ]
  },
  {
   "cell_type": "code",
   "execution_count": 30,
   "metadata": {
    "collapsed": false
   },
   "outputs": [
    {
     "data": {
      "text/html": [
       "<div>\n",
       "<table border=\"1\" class=\"dataframe\">\n",
       "  <thead>\n",
       "    <tr style=\"text-align: right;\">\n",
       "      <th></th>\n",
       "      <th>Race</th>\n",
       "      <th>is_college_educated</th>\n",
       "      <th>total_citizens</th>\n",
       "      <th>total_power</th>\n",
       "      <th>power_ratio</th>\n",
       "    </tr>\n",
       "  </thead>\n",
       "  <tbody>\n",
       "    <tr>\n",
       "      <th>2</th>\n",
       "      <td>White alone</td>\n",
       "      <td>True</td>\n",
       "      <td>114703979</td>\n",
       "      <td>105893512.2</td>\n",
       "      <td>0.923190</td>\n",
       "    </tr>\n",
       "    <tr>\n",
       "      <th>3</th>\n",
       "      <td>White alone</td>\n",
       "      <td>False</td>\n",
       "      <td>77281676</td>\n",
       "      <td>69947423.3</td>\n",
       "      <td>0.905097</td>\n",
       "    </tr>\n",
       "  </tbody>\n",
       "</table>\n",
       "</div>"
      ],
      "text/plain": [
       "          Race is_college_educated  total_citizens  total_power  power_ratio\n",
       "2  White alone                True       114703979  105893512.2     0.923190\n",
       "3  White alone               False        77281676   69947423.3     0.905097"
      ]
     },
     "execution_count": 30,
     "metadata": {},
     "output_type": "execute_result"
    }
   ],
   "source": [
    "edu_reset = edu_power.reset_index()\n",
    "edu_reset[\n",
    "    edu_reset[\"Race\"] == \"White alone\"\n",
    "]"
   ]
  },
  {
   "cell_type": "markdown",
   "metadata": {},
   "source": [
    "---\n",
    "\n",
    "---\n",
    "\n",
    "---"
   ]
  }
 ],
 "metadata": {
  "kernelspec": {
   "display_name": "Python 3",
   "language": "python",
   "name": "python3"
  },
  "language_info": {
   "codemirror_mode": {
    "name": "ipython",
    "version": 3
   },
   "file_extension": ".py",
   "mimetype": "text/x-python",
   "name": "python",
   "nbconvert_exporter": "python",
   "pygments_lexer": "ipython3",
   "version": "3.5.0"
  }
 },
 "nbformat": 4,
 "nbformat_minor": 0
}
